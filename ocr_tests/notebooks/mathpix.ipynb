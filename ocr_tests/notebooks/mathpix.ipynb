{
 "cells": [
  {
   "cell_type": "code",
   "execution_count": 24,
   "id": "76f6391f-d7a2-438c-8ea0-4f2d6522d06c",
   "metadata": {},
   "outputs": [],
   "source": [
    "import requests\n",
    "import json\n",
    "import time\n",
    "from urllib import request as urlrequest\n",
    "\n",
    "\n",
    "APP_ID = \"APP_ID\"\n",
    "APP_KEY = \"APP_KEY\"\n",
    "API_URL = \"https://api.mathpix.com/v3/pdf\"\n",
    "PDF_ID = \"2023_09_26_abc58065a99dc5fe46cag\"\n",
    "PDF_URL = \"URL_PDF\"\n",
    "\n",
    "HEADERS =  {\"Content-Type\": \"application/json\",\n",
    "            \"app_id\": APP_ID,\n",
    "            \"app_key\": APP_KEY}\n",
    "\n",
    "def send_pdf(pdf_url):\n",
    "    response = requests.post(API_URL, data=json.dumps({'url': pdf_url}), headers=HEADERS)\n",
    "    if response.status_code != 200:\n",
    "        print(\"Algo falló\")\n",
    "        return None\n",
    "\n",
    "    response_data = response.json()\n",
    "    return response_data.get('pdf_id')\n",
    "\n",
    "\n",
    "def is_done(pdf_id):\n",
    "    percent = 0\n",
    "    while percent < 100:\n",
    "        response = requests.get(f\"{API_URL}/{pdf_id}\", headers=HEADERS)\n",
    "        if response.status_code != 200:\n",
    "            print(\"Algo falló\")\n",
    "            return False\n",
    "    \n",
    "        response_data = response.json()\n",
    "        percent = int(response_data.get('percent_done', 100))\n",
    "        if percent != 100:\n",
    "            print(f\"Porcentaje actual: {percent}... espero\")\n",
    "            time.sleep(1)\n",
    "    return True\n",
    "\n",
    "def retrieve_file(pdf_id, path):\n",
    "    opener = urlrequest.build_opener()\n",
    "    for key, value in HEADERS.items():\n",
    "        opener.addheaders = [(key, value)]\n",
    "    urlrequest.install_opener(opener)\n",
    "    urlrequest.urlretrieve(f\"{API_URL}/{pdf_id}.tex\", path)\n"
   ]
  },
  {
   "cell_type": "code",
   "execution_count": null,
   "id": "544cfa1c-bf76-42e0-a2ef-2a508a892a58",
   "metadata": {},
   "outputs": [],
   "source": [
    "print(\"comienzo la prueba\")\n",
    "pdf_id = send_pdf(PDF_URL)\n",
    "if pdf_id:\n",
    "    print(f\"obtuve el pdf id: {pdf_id}\")\n",
    "    if is_done(pdf_id):\n",
    "        print(\"Ya esta listo\")\n",
    "        retrieve_file(pdf_id, '/tmp/testing.zip')"
   ]
  }
 ],
 "metadata": {
  "kernelspec": {
   "display_name": "Python 3 (ipykernel)",
   "language": "python",
   "name": "python3"
  },
  "language_info": {
   "codemirror_mode": {
    "name": "ipython",
    "version": 3
   },
   "file_extension": ".py",
   "mimetype": "text/x-python",
   "name": "python",
   "nbconvert_exporter": "python",
   "pygments_lexer": "ipython3",
   "version": "3.10.12"
  }
 },
 "nbformat": 4,
 "nbformat_minor": 5
}
