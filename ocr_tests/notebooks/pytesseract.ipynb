{
 "cells": [
  {
   "cell_type": "markdown",
   "id": "33689821-a1ad-4cb5-9703-c2d3c7b84717",
   "metadata": {},
   "source": [
    "# Tesseract"
   ]
  },
  {
   "cell_type": "code",
   "execution_count": 1,
   "id": "c341682e-f11e-46dd-ba96-5518da9dfb59",
   "metadata": {},
   "outputs": [],
   "source": [
    "import pytesseract\n",
    "from pytesseract import Output\n",
    "from PIL import Image\n",
    "import cv2"
   ]
  },
  {
   "cell_type": "markdown",
   "id": "0d8ad30d-d456-4207-b100-65a943711a0d",
   "metadata": {},
   "source": [
    "### Opciones Disponibles\n",
    "\n",
    "       --psm N\n",
    "           Set Tesseract to only run a subset of layout analysis and assume a certain form of image. The options for N are:\n",
    "\n",
    "               0 = Orientation and script detection (OSD) only.\n",
    "               1 = Automatic page segmentation with OSD.\n",
    "               2 = Automatic page segmentation, but no OSD, or OCR. (not implemented)\n",
    "               3 = Fully automatic page segmentation, but no OSD. (Default)\n",
    "               4 = Assume a single column of text of variable sizes.\n",
    "               5 = Assume a single uniform block of vertically aligned text.\n",
    "               6 = Assume a single uniform block of text.\n",
    "               7 = Treat the image as a single text line.\n",
    "               8 = Treat the image as a single word.\n",
    "               9 = Treat the image as a single word in a circle.\n",
    "               10 = Treat the image as a single character.\n",
    "               11 = Sparse text. Find as much text as possible in no particular order.\n",
    "               12 = Sparse text with OSD.\n",
    "               13 = Raw line. Treat the image as a single text line,\n",
    "                    bypassing hacks that are Tesseract-specific.\n",
    "\n",
    "       --oem N\n",
    "           Specify OCR Engine mode. The options for N are:\n",
    "\n",
    "               0 = Original Tesseract only.\n",
    "               1 = Neural nets LSTM only.\n",
    "               2 = Tesseract + LSTM.\n",
    "               3 = Default, based on what is available.\n",
    "\n"
   ]
  },
  {
   "cell_type": "code",
   "execution_count": 2,
   "id": "7159ebd9-2775-40aa-a50f-8e28c87df8b1",
   "metadata": {},
   "outputs": [],
   "source": [
    "IMG_PATH = \"../pytesseract/original.png\"\n",
    "\n",
    "img = cv2.imread(IMG_PATH)\n",
    "height, width, _ = img.shape\n",
    "\n",
    "myconfig = \"-l spa\"\n",
    "#boxes = pytesseract.image_to_boxes(img, config=myconfig)\n",
    "data = pytesseract.image_to_data(img, config=myconfig, output_type=Output.DATAFRAME)"
   ]
  },
  {
   "cell_type": "code",
   "execution_count": 3,
   "id": "7397b529-ff4b-49ad-a5d2-f890c302c353",
   "metadata": {},
   "outputs": [
    {
     "data": {
      "text/html": [
       "<div>\n",
       "<style scoped>\n",
       "    .dataframe tbody tr th:only-of-type {\n",
       "        vertical-align: middle;\n",
       "    }\n",
       "\n",
       "    .dataframe tbody tr th {\n",
       "        vertical-align: top;\n",
       "    }\n",
       "\n",
       "    .dataframe thead th {\n",
       "        text-align: right;\n",
       "    }\n",
       "</style>\n",
       "<table border=\"1\" class=\"dataframe\">\n",
       "  <thead>\n",
       "    <tr style=\"text-align: right;\">\n",
       "      <th></th>\n",
       "      <th>level</th>\n",
       "      <th>page_num</th>\n",
       "      <th>block_num</th>\n",
       "      <th>par_num</th>\n",
       "      <th>line_num</th>\n",
       "      <th>word_num</th>\n",
       "      <th>left</th>\n",
       "      <th>top</th>\n",
       "      <th>width</th>\n",
       "      <th>height</th>\n",
       "      <th>conf</th>\n",
       "      <th>text</th>\n",
       "    </tr>\n",
       "  </thead>\n",
       "  <tbody>\n",
       "    <tr>\n",
       "      <th>0</th>\n",
       "      <td>1</td>\n",
       "      <td>1</td>\n",
       "      <td>0</td>\n",
       "      <td>0</td>\n",
       "      <td>0</td>\n",
       "      <td>0</td>\n",
       "      <td>0</td>\n",
       "      <td>0</td>\n",
       "      <td>2480</td>\n",
       "      <td>3508</td>\n",
       "      <td>-1</td>\n",
       "      <td>NaN</td>\n",
       "    </tr>\n",
       "    <tr>\n",
       "      <th>1</th>\n",
       "      <td>2</td>\n",
       "      <td>1</td>\n",
       "      <td>1</td>\n",
       "      <td>0</td>\n",
       "      <td>0</td>\n",
       "      <td>0</td>\n",
       "      <td>268</td>\n",
       "      <td>240</td>\n",
       "      <td>177</td>\n",
       "      <td>50</td>\n",
       "      <td>-1</td>\n",
       "      <td>NaN</td>\n",
       "    </tr>\n",
       "    <tr>\n",
       "      <th>2</th>\n",
       "      <td>3</td>\n",
       "      <td>1</td>\n",
       "      <td>1</td>\n",
       "      <td>1</td>\n",
       "      <td>0</td>\n",
       "      <td>0</td>\n",
       "      <td>268</td>\n",
       "      <td>240</td>\n",
       "      <td>177</td>\n",
       "      <td>50</td>\n",
       "      <td>-1</td>\n",
       "      <td>NaN</td>\n",
       "    </tr>\n",
       "    <tr>\n",
       "      <th>3</th>\n",
       "      <td>4</td>\n",
       "      <td>1</td>\n",
       "      <td>1</td>\n",
       "      <td>1</td>\n",
       "      <td>1</td>\n",
       "      <td>0</td>\n",
       "      <td>268</td>\n",
       "      <td>240</td>\n",
       "      <td>177</td>\n",
       "      <td>50</td>\n",
       "      <td>-1</td>\n",
       "      <td>NaN</td>\n",
       "    </tr>\n",
       "    <tr>\n",
       "      <th>4</th>\n",
       "      <td>5</td>\n",
       "      <td>1</td>\n",
       "      <td>1</td>\n",
       "      <td>1</td>\n",
       "      <td>1</td>\n",
       "      <td>1</td>\n",
       "      <td>268</td>\n",
       "      <td>245</td>\n",
       "      <td>87</td>\n",
       "      <td>45</td>\n",
       "      <td>33</td>\n",
       "      <td>¡s/e</td>\n",
       "    </tr>\n",
       "  </tbody>\n",
       "</table>\n",
       "</div>"
      ],
      "text/plain": [
       "   level  page_num  block_num  par_num  line_num  word_num  left  top  width  \\\n",
       "0      1         1          0        0         0         0     0    0   2480   \n",
       "1      2         1          1        0         0         0   268  240    177   \n",
       "2      3         1          1        1         0         0   268  240    177   \n",
       "3      4         1          1        1         1         0   268  240    177   \n",
       "4      5         1          1        1         1         1   268  245     87   \n",
       "\n",
       "   height  conf  text  \n",
       "0    3508    -1   NaN  \n",
       "1      50    -1   NaN  \n",
       "2      50    -1   NaN  \n",
       "3      50    -1   NaN  \n",
       "4      45    33  ¡s/e  "
      ]
     },
     "execution_count": 3,
     "metadata": {},
     "output_type": "execute_result"
    }
   ],
   "source": [
    "data.head()"
   ]
  },
  {
   "cell_type": "code",
   "execution_count": 4,
   "id": "d3ee9387-ba8c-42c3-94ed-514063ea79a9",
   "metadata": {},
   "outputs": [],
   "source": [
    "for row in data.iterrows():\n",
    "    #print(row[1])\n",
    "    *_, left, top, width, height, conf, text = row[1]\n",
    "    if float(conf) > 25:\n",
    "        (x, y, width, height) = (left, top, width, height)\n",
    "        img = cv2.rectangle(img, (x, y), (x+width, y+height), (0, 255, 0), 2)\n",
    "        img = cv2.putText(img, text, (x, y+height+20), cv2.FONT_HERSHEY_SIMPLEX, 0.7, (0, 255, 0), 2, cv2.LINE_AA)"
   ]
  },
  {
   "cell_type": "code",
   "execution_count": 5,
   "id": "40a87e56-0e43-40b5-b88f-a614667a004f",
   "metadata": {},
   "outputs": [
    {
     "data": {
      "text/plain": [
       "True"
      ]
     },
     "execution_count": 5,
     "metadata": {},
     "output_type": "execute_result"
    }
   ],
   "source": [
    "\"\"\"\n",
    "for box in boxes.splitlines():\n",
    "    box = box.split(\" \")\n",
    "    img = cv2.rectangle(img, (int(box[1]), height - int(box[2])), (int(box[3]), height - int(box[4])), (0, 255, 0), 2)\n",
    "\"\"\"\n",
    "\n",
    "cv2.imwrite('/tmp/aux.png', img)\n",
    "#cv2.imshow(\"img\", img)\n",
    "#cv2.waitKey(0)"
   ]
  },
  {
   "cell_type": "code",
   "execution_count": null,
   "id": "da81d98c-c780-42ca-bad0-fd03d3fa9a6e",
   "metadata": {},
   "outputs": [],
   "source": []
  }
 ],
 "metadata": {
  "kernelspec": {
   "display_name": "Python 3 (ipykernel)",
   "language": "python",
   "name": "python3"
  },
  "language_info": {
   "codemirror_mode": {
    "name": "ipython",
    "version": 3
   },
   "file_extension": ".py",
   "mimetype": "text/x-python",
   "name": "python",
   "nbconvert_exporter": "python",
   "pygments_lexer": "ipython3",
   "version": "3.10.12"
  }
 },
 "nbformat": 4,
 "nbformat_minor": 5
}
